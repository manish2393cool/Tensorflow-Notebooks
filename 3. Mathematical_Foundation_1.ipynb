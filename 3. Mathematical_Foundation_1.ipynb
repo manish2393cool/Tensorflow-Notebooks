{
  "nbformat": 4,
  "nbformat_minor": 0,
  "metadata": {
    "colab": {
      "name": "Mathematical_Foundation_1.ipynb",
      "version": "0.3.2",
      "provenance": [],
      "include_colab_link": true
    },
    "kernelspec": {
      "name": "python3",
      "display_name": "Python 3"
    }
  },
  "cells": [
    {
      "cell_type": "markdown",
      "metadata": {
        "id": "view-in-github",
        "colab_type": "text"
      },
      "source": [
        "<a href=\"https://colab.research.google.com/github/manish2393cool/Tensorflow-Notebooks/blob/master/3.%20Mathematical_Foundation_1.ipynb\" target=\"_parent\"><img src=\"https://colab.research.google.com/assets/colab-badge.svg\" alt=\"Open In Colab\"/></a>"
      ]
    },
    {
      "cell_type": "code",
      "metadata": {
        "id": "QlG4DtJjOTj6",
        "colab_type": "code",
        "outputId": "a028a2ea-3281-4eec-b2a7-0a2a7ddc656c",
        "colab": {
          "base_uri": "https://localhost:8080/",
          "height": 185
        }
      },
      "source": [
        "import numpy as np\n",
        "\n",
        "\n",
        "w= np.array([[1,0.5],[2,1]])\n",
        "print(\"# of axes-w = %d\"%w.ndim)\n",
        "print(\"Shape of w = \", w.shape)\n",
        "print()\n",
        "\n",
        "inp = np.array([[1,2],[-1,2]])\n",
        "print(\"# of axes-input = %d\"%inp.ndim)\n",
        "print(\"Shape of input = \", inp.shape)\n",
        "print()\n",
        "\n",
        "b = np.array([-2.0,0.5])\n",
        "print(\"# of axes-b = %d\"%b.ndim)\n",
        "print(\"Shape of b = \", b.shape)\n",
        "print()"
      ],
      "execution_count": 0,
      "outputs": [
        {
          "output_type": "stream",
          "text": [
            "# of axes-w = 2\n",
            "Shape of w =  (2, 2)\n",
            "\n",
            "# of axes-input = 2\n",
            "Shape of input =  (2, 2)\n",
            "\n",
            "# of axes-b = 1\n",
            "Shape of b =  (2,)\n",
            "\n"
          ],
          "name": "stdout"
        }
      ]
    },
    {
      "cell_type": "code",
      "metadata": {
        "id": "7whvSt60MZEL",
        "colab_type": "code",
        "outputId": "5b943c17-2b1b-4d4d-c612-97ab24f9e947",
        "colab": {
          "base_uri": "https://localhost:8080/",
          "height": 185
        }
      },
      "source": [
        "z= np.dot(w,inp) + b\n",
        "\n",
        "print(\"===================================\")\n",
        "print(\"Shape of w = \", w.shape)\n",
        "print(\"Shape of input = \", inp.shape)\n",
        "print(\"Shape of b = \", b.shape)\n",
        "print(\"===================================\")\n",
        "print(\"Shape of z\", z.shape)\n",
        "print(\"===================================\")\n",
        "print(z)"
      ],
      "execution_count": 0,
      "outputs": [
        {
          "output_type": "stream",
          "text": [
            "===================================\n",
            "Shape of w =  (2, 2)\n",
            "Shape of input =  (2, 2)\n",
            "Shape of b =  (2,)\n",
            "===================================\n",
            "Shape of z (2, 2)\n",
            "===================================\n",
            "[[-1.5  3.5]\n",
            " [-1.   6.5]]\n"
          ],
          "name": "stdout"
        }
      ]
    },
    {
      "cell_type": "code",
      "metadata": {
        "id": "nRAYEnPYMnsR",
        "colab_type": "code",
        "outputId": "b2ef7f51-8839-4906-b74d-42c450848a90",
        "colab": {
          "base_uri": "https://localhost:8080/",
          "height": 73
        }
      },
      "source": [
        "output = np.maximum(0., z)\n",
        "print(\"Shape of Output = \", output.shape)\n",
        "print(output)"
      ],
      "execution_count": 0,
      "outputs": [
        {
          "output_type": "stream",
          "text": [
            "Shape of Output =  (2, 2)\n",
            "[[0.  3.5]\n",
            " [0.  6.5]]\n"
          ],
          "name": "stdout"
        }
      ]
    },
    {
      "cell_type": "code",
      "metadata": {
        "id": "-z0WNBhhNMEI",
        "colab_type": "code",
        "outputId": "f02ef7da-0156-4b7c-fc20-30351f396d0f",
        "colab": {
          "base_uri": "https://localhost:8080/",
          "height": 302
        }
      },
      "source": [
        "import matplotlib.pyplot as plt\n",
        "# relu visualization\n",
        "x = np.linspace(-10,10,100)\n",
        "z = np.maximum(0., x)\n",
        "plt.plot(x,z)\n",
        "plt.xlabel(\"x\")\n",
        "plt.ylabel(\"z= relu(x)\")\n"
      ],
      "execution_count": 0,
      "outputs": [
        {
          "output_type": "execute_result",
          "data": {
            "text/plain": [
              "Text(0, 0.5, 'z= relu(x)')"
            ]
          },
          "metadata": {
            "tags": []
          },
          "execution_count": 5
        },
        {
          "output_type": "display_data",
          "data": {
            "image/png": "[encoded data removed]",
            "text/plain": [
              "<Figure size 432x288 with 1 Axes>"
            ]
          },
          "metadata": {
            "tags": []
          }
        }
      ]
    },
    {
      "cell_type": "code",
      "metadata": {
        "id": "hLL_Gm5ANsB6",
        "colab_type": "code",
        "outputId": "ce5807a4-e9a6-42f1-a667-7defa707960e",
        "colab": {
          "base_uri": "https://localhost:8080/",
          "height": 302
        }
      },
      "source": [
        "import matplotlib.pyplot as plt\n",
        "# sigmoid visualization\n",
        "x = np.linspace(-10,10,100)\n",
        "z = 1/(1+np.exp(-x))\n",
        "plt.plot(x,z)\n",
        "plt.xlabel(\"x\")\n",
        "plt.ylabel(\"z= sigmoid(x)\")"
      ],
      "execution_count": 0,
      "outputs": [
        {
          "output_type": "execute_result",
          "data": {
            "text/plain": [
              "Text(0, 0.5, 'z= sigmoid(x)')"
            ]
          },
          "metadata": {
            "tags": []
          },
          "execution_count": 6
        },
        {
          "output_type": "display_data",
          "data": {
            "image/png": "[encoded data removed]",
            "text/plain": [
              "<Figure size 432x288 with 1 Axes>"
            ]
          },
          "metadata": {
            "tags": []
          }
        }
      ]
    },
    {
      "cell_type": "markdown",
      "metadata": {
        "id": "6nz2lpPGOra_",
        "colab_type": "text"
      },
      "source": [
        "ELEMENT WISE ADDITION\n",
        "\n",
        "The vectorized implementation exploit this caracterstics for efficient implementations\n",
        "\n",
        "\n",
        "Since relu and tensor addition are both element wise operations hence can be parallelized.\n"
      ]
    },
    {
      "cell_type": "markdown",
      "metadata": {
        "id": "jrt0JVKsPL5p",
        "colab_type": "text"
      },
      "source": [
        "## BROADCASTING\n",
        "\n",
        "Employed to make tensors involved in the operations compatible. Concretely, lets say you want to add two tensors when their shape differs.\n",
        "\n",
        "1. Axes are added to the smaller tensor to match the ndim of the larger tensor. Thse axes are called broadcast axes.\n",
        "\n",
        "2. The smaller tensor is repeated alongside these new axes to match the full shape of the larger tensor.\n"
      ]
    },
    {
      "cell_type": "code",
      "metadata": {
        "id": "98LN6iQGOkWP",
        "colab_type": "code",
        "outputId": "2343bbcc-c267-45aa-a04c-11198343ec3b",
        "colab": {
          "base_uri": "https://localhost:8080/",
          "height": 92
        }
      },
      "source": [
        "x_1 = np.random.rand(32,10)\n",
        "x_2 = np.random.rand(10,)\n",
        "\n",
        "print(\"Shape of x_1 : \", x_1.shape)\n",
        "\n",
        "print(\"Original Shape of x_2 : \", x_2.shape)\n",
        "\n",
        "# Broadcasting\n",
        "# 1. Add an axes to match ndim of the larger tensor\n",
        "x_2 = np.expand_dims(x_2, axis=0)\n",
        "print(\"New Shape of x_2 after adding a broadcasting axis: \", x_2.shape)\n",
        "\n",
        "# 2. Smaller tensor is repeated on the new axis\n",
        "x_2 = np.repeat(x_2, 32, axis=0)\n",
        "print(\"Shape of x_2 after Broadcasting: \", x_2.shape)\n",
        "\n"
      ],
      "execution_count": 0,
      "outputs": [
        {
          "output_type": "stream",
          "text": [
            "Shape of x_1 :  (32, 10)\n",
            "Original Shape of x_2 :  (10,)\n",
            "New Shape of x_2 after adding a broadcasting axis:  (1, 10)\n",
            "Shape of x_2 after Broadcasting:  (32, 10)\n"
          ],
          "name": "stdout"
        }
      ]
    },
    {
      "cell_type": "markdown",
      "metadata": {
        "id": "_ThY8ZSg02DQ",
        "colab_type": "text"
      },
      "source": [
        "In actual implementation, the entries are not repeated, but the algorithms implements virtual repeatition operations"
      ]
    },
    {
      "cell_type": "code",
      "metadata": {
        "id": "zSG8jOIoPzr5",
        "colab_type": "code",
        "outputId": "1099c4c6-849c-4801-e55e-9f2b9ed99543",
        "colab": {
          "base_uri": "https://localhost:8080/",
          "height": 36
        }
      },
      "source": [
        "x_1 = np.random.rand(32,10)\n",
        "x_2 = np.random.rand(10,)\n",
        "\n",
        "print((x_1 + x_2).shape)"
      ],
      "execution_count": 0,
      "outputs": [
        {
          "output_type": "stream",
          "text": [
            "(32, 10)\n"
          ],
          "name": "stdout"
        }
      ]
    },
    {
      "cell_type": "markdown",
      "metadata": {
        "id": "pzeqVn701aUf",
        "colab_type": "text"
      },
      "source": [
        "## Reshaping\n",
        "\n",
        "* Mainly used in data preprocessing\n",
        "* Used to rearrange rows and column of existing tensor"
      ]
    },
    {
      "cell_type": "code",
      "metadata": {
        "id": "1z7I8EAC1aL1",
        "colab_type": "code",
        "outputId": "08905ca8-37b6-409d-b73e-5ef6a6d8f92a",
        "colab": {
          "base_uri": "https://localhost:8080/",
          "height": 335
        }
      },
      "source": [
        "x = np.array([[0.,1.],\n",
        "              [2.,3.],\n",
        "              [4.,5.]])\n",
        "\n",
        "print(\"x = \",x)\n",
        "\n",
        "print(\"Shape of x:\", x.shape)\n",
        "print(\"====================\")\n",
        "\n",
        "# Reshaping the tensor to \n",
        "x = x.reshape((6,1))\n",
        "print(\"After re-shaping of x to (6,1). New shape of x is : \", x.shape)\n",
        "print(\"x = \",x)\n",
        "print(\"====================\")\n",
        "\n",
        "x = x.reshape((2,3))\n",
        "print(\"After re-shaping of x to (2,3). New shape of x is : \", x.shape)\n",
        "print(\"x = \",x)\n",
        "print(\"====================\")\n",
        "\n"
      ],
      "execution_count": 0,
      "outputs": [
        {
          "output_type": "stream",
          "text": [
            "x =  [[0. 1.]\n",
            " [2. 3.]\n",
            " [4. 5.]]\n",
            "Shape of x: (3, 2)\n",
            "====================\n",
            "After re-shaping of x to (6,1). New shape of x is :  (6, 1)\n",
            "x =  [[0.]\n",
            " [1.]\n",
            " [2.]\n",
            " [3.]\n",
            " [4.]\n",
            " [5.]]\n",
            "====================\n",
            "After re-shaping of x to (2,3). New shape of x is :  (2, 3)\n",
            "x =  [[0. 1. 2.]\n",
            " [3. 4. 5.]]\n",
            "====================\n"
          ],
          "name": "stdout"
        }
      ]
    },
    {
      "cell_type": "markdown",
      "metadata": {
        "id": "TTFQRSLd2vB-",
        "colab_type": "text"
      },
      "source": [
        "Transposition"
      ]
    },
    {
      "cell_type": "code",
      "metadata": {
        "id": "ZNfE-BvX2t-j",
        "colab_type": "code",
        "outputId": "0dba3f12-881d-4906-c8ae-53f96746990b",
        "colab": {
          "base_uri": "https://localhost:8080/",
          "height": 36
        }
      },
      "source": [
        "x = np.zeros((300,20))\n",
        "x = np.transpose(x)\n",
        "print(x.shape)"
      ],
      "execution_count": 0,
      "outputs": [
        {
          "output_type": "stream",
          "text": [
            "(20, 300)\n"
          ],
          "name": "stdout"
        }
      ]
    },
    {
      "cell_type": "markdown",
      "metadata": {
        "id": "LmktC1cK1SfO",
        "colab_type": "text"
      },
      "source": [
        "## TENSOR DOT"
      ]
    },
    {
      "cell_type": "code",
      "metadata": {
        "id": "FEgD_Zfr1Ine",
        "colab_type": "code",
        "colab": {}
      },
      "source": [
        ""
      ],
      "execution_count": 0,
      "outputs": []
    },
    {
      "cell_type": "markdown",
      "metadata": {
        "id": "oHYRyTRH28uW",
        "colab_type": "text"
      },
      "source": [
        ""
      ]
    },
    {
      "cell_type": "code",
      "metadata": {
        "id": "LBBwMivU28CS",
        "colab_type": "code",
        "colab": {}
      },
      "source": [
        ""
      ],
      "execution_count": 0,
      "outputs": []
    }
  ]
}