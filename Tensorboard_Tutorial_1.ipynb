{
  "nbformat": 4,
  "nbformat_minor": 0,
  "metadata": {
    "colab": {
      "name": "Tensorboard_Tut.ipynb",
      "version": "0.3.2",
      "provenance": [],
      "collapsed_sections": [],
      "include_colab_link": true
    },
    "kernelspec": {
      "name": "python3",
      "display_name": "Python 3"
    }
  },
  "cells": [
    {
      "cell_type": "markdown",
      "metadata": {
        "id": "view-in-github",
        "colab_type": "text"
      },
      "source": [
        "<a href=\"https://colab.research.google.com/github/manish2393cool/Tensorflow-Notebooks/blob/master/Tensorboard_Tutorial_1.ipynb\" target=\"_parent\"><img src=\"https://colab.research.google.com/assets/colab-badge.svg\" alt=\"Open In Colab\"/></a>"
      ]
    },
    {
      "metadata": {
        "id": "cRVE3EH4UJU4",
        "colab_type": "code",
        "colab": {
          "base_uri": "https://localhost:8080/",
          "height": 35
        },
        "outputId": "52e53572-1bd3-42b0-a0dc-dab15f35ad20"
      },
      "cell_type": "code",
      "source": [
        "!pip install tensorboardcolab"
      ],
      "execution_count": 4,
      "outputs": [
        {
          "output_type": "stream",
          "text": [
            "Requirement already satisfied: tensorboardcolab in /usr/local/lib/python3.6/dist-packages (0.0.22)\n"
          ],
          "name": "stdout"
        }
      ]
    },
    {
      "metadata": {
        "id": "dRbpdYagUau-",
        "colab_type": "code",
        "colab": {
          "base_uri": "https://localhost:8080/",
          "height": 72
        },
        "outputId": "7bb344c5-ad31-409c-e6f0-fb8959c1d3e1"
      },
      "cell_type": "code",
      "source": [
        "from tensorboardcolab import TensorBoardColab, TensorBoardColabCallback\n",
        "\n",
        "tbc=TensorBoardColab()"
      ],
      "execution_count": 8,
      "outputs": [
        {
          "output_type": "stream",
          "text": [
            "Wait for 8 seconds...\n",
            "TensorBoard link:\n",
            "http://56433878.ngrok.io\n"
          ],
          "name": "stdout"
        }
      ]
    },
    {
      "metadata": {
        "id": "Lkfb5Tk0kKxA",
        "colab_type": "code",
        "colab": {}
      },
      "cell_type": "code",
      "source": [
        "# model.fit(x,y,epochs=100000,callbacks=[TensorBoardColabCallback(tbc)])"
      ],
      "execution_count": 0,
      "outputs": []
    },
    {
      "metadata": {
        "id": "A-5np-rXl5S8",
        "colab_type": "code",
        "colab": {
          "base_uri": "https://localhost:8080/",
          "height": 53
        },
        "outputId": "96d3f969-2d67-49e9-de0c-65002f89112a"
      },
      "cell_type": "code",
      "source": [
        "from keras.datasets import mnist \n",
        "# the data, shuffled and split between train and test sets \n",
        "(X_train, y_train), (X_test, y_test) = mnist.load_data()"
      ],
      "execution_count": 10,
      "outputs": [
        {
          "output_type": "stream",
          "text": [
            "Downloading data from https://s3.amazonaws.com/img-datasets/mnist.npz\n",
            "11493376/11490434 [==============================] - 0s 0us/step\n"
          ],
          "name": "stdout"
        }
      ]
    },
    {
      "metadata": {
        "id": "87pkcuvNmRV0",
        "colab_type": "code",
        "colab": {}
      },
      "cell_type": "code",
      "source": [
        "input_dim = 784 #28*28 \n",
        "X_train = X_train.reshape(60000, input_dim) \n",
        "X_test = X_test.reshape(10000, input_dim) \n",
        "X_train = X_train.astype('float32') \n",
        "X_test = X_test.astype('float32') \n",
        "X_train /= 255 \n",
        "X_test /= 255"
      ],
      "execution_count": 0,
      "outputs": []
    },
    {
      "metadata": {
        "id": "G0DPv2dZmTqg",
        "colab_type": "code",
        "colab": {}
      },
      "cell_type": "code",
      "source": [
        "from keras.utils import np_utils \n",
        "Y_train = np_utils.to_categorical(y_train, nb_classes) \n",
        "Y_test = np_utils.to_categorical(y_test, nb_classes)"
      ],
      "execution_count": 0,
      "outputs": []
    },
    {
      "metadata": {
        "id": "3_t-WnGDmWCV",
        "colab_type": "code",
        "colab": {}
      },
      "cell_type": "code",
      "source": [
        "from keras.models import Sequential \n",
        "from keras.layers import Dense, Activation \n",
        "output_dim = nb_classes = 10 \n",
        "model = Sequential() \n",
        "model.add(Dense(output_dim, input_dim=input_dim, activation='softmax')) \n",
        "batch_size = 128 \n",
        "nb_epoch = 100"
      ],
      "execution_count": 0,
      "outputs": []
    },
    {
      "metadata": {
        "id": "kdR13ApUmdW7",
        "colab_type": "code",
        "colab": {
          "base_uri": "https://localhost:8080/",
          "height": 3761
        },
        "outputId": "c5c2db5a-e113-4918-c9d6-fe6524ed92cf"
      },
      "cell_type": "code",
      "source": [
        "model.compile(optimizer='sgd', loss='categorical_crossentropy', metrics=['accuracy']) \n",
        "history = model.fit(X_train, Y_train, batch_size=batch_size, nb_epoch=nb_epoch,verbose=1, validation_data=(X_test, Y_test), callbacks=[TensorBoardColabCallback(tbc)]) \n",
        "score = model.evaluate(X_test, Y_test, verbose=0) \n",
        "print('Test score:', score[0]) \n",
        "print('Test accuracy:', score[1])"
      ],
      "execution_count": 20,
      "outputs": [
        {
          "output_type": "stream",
          "text": [
            "/usr/local/lib/python3.6/dist-packages/ipykernel_launcher.py:2: UserWarning: The `nb_epoch` argument in `fit` has been renamed `epochs`.\n",
            "  \n"
          ],
          "name": "stderr"
        },
        {
          "output_type": "stream",
          "text": [
            "Train on 60000 samples, validate on 10000 samples\n",
            "Epoch 1/100\n",
            "60000/60000 [==============================] - 1s 18us/step - loss: 1.2755 - acc: 0.6940 - val_loss: 0.8108 - val_acc: 0.8324\n",
            "Epoch 2/100\n",
            "60000/60000 [==============================] - 1s 17us/step - loss: 0.7162 - acc: 0.8405 - val_loss: 0.6079 - val_acc: 0.8611\n",
            "Epoch 3/100\n",
            "60000/60000 [==============================] - 1s 18us/step - loss: 0.5881 - acc: 0.8590 - val_loss: 0.5274 - val_acc: 0.8743\n",
            "Epoch 4/100\n",
            "60000/60000 [==============================] - 1s 19us/step - loss: 0.5264 - acc: 0.8683 - val_loss: 0.4812 - val_acc: 0.8820\n",
            "Epoch 5/100\n",
            "60000/60000 [==============================] - 1s 18us/step - loss: 0.4888 - acc: 0.8743 - val_loss: 0.4515 - val_acc: 0.8861\n",
            "Epoch 6/100\n",
            "60000/60000 [==============================] - 1s 19us/step - loss: 0.4628 - acc: 0.8786 - val_loss: 0.4301 - val_acc: 0.8886\n",
            "Epoch 7/100\n",
            "60000/60000 [==============================] - 1s 18us/step - loss: 0.4436 - acc: 0.8828 - val_loss: 0.4139 - val_acc: 0.8920\n",
            "Epoch 8/100\n",
            "60000/60000 [==============================] - 1s 18us/step - loss: 0.4286 - acc: 0.8859 - val_loss: 0.4014 - val_acc: 0.8951\n",
            "Epoch 9/100\n",
            "60000/60000 [==============================] - 1s 19us/step - loss: 0.4165 - acc: 0.8885 - val_loss: 0.3910 - val_acc: 0.8975\n",
            "Epoch 10/100\n",
            "60000/60000 [==============================] - 1s 18us/step - loss: 0.4064 - acc: 0.8908 - val_loss: 0.3820 - val_acc: 0.8991\n",
            "Epoch 11/100\n",
            "60000/60000 [==============================] - 1s 19us/step - loss: 0.3979 - acc: 0.8923 - val_loss: 0.3746 - val_acc: 0.9008\n",
            "Epoch 12/100\n",
            "60000/60000 [==============================] - 1s 18us/step - loss: 0.3905 - acc: 0.8941 - val_loss: 0.3683 - val_acc: 0.9014\n",
            "Epoch 13/100\n",
            "60000/60000 [==============================] - 1s 19us/step - loss: 0.3842 - acc: 0.8950 - val_loss: 0.3625 - val_acc: 0.9029\n",
            "Epoch 14/100\n",
            "60000/60000 [==============================] - 1s 18us/step - loss: 0.3785 - acc: 0.8965 - val_loss: 0.3578 - val_acc: 0.9040\n",
            "Epoch 15/100\n",
            "60000/60000 [==============================] - 1s 18us/step - loss: 0.3735 - acc: 0.8975 - val_loss: 0.3531 - val_acc: 0.9055\n",
            "Epoch 16/100\n",
            "60000/60000 [==============================] - 1s 19us/step - loss: 0.3689 - acc: 0.8984 - val_loss: 0.3493 - val_acc: 0.9065\n",
            "Epoch 17/100\n",
            "60000/60000 [==============================] - 1s 18us/step - loss: 0.3647 - acc: 0.8994 - val_loss: 0.3459 - val_acc: 0.9069\n",
            "Epoch 18/100\n",
            "60000/60000 [==============================] - 1s 19us/step - loss: 0.3610 - acc: 0.9002 - val_loss: 0.3421 - val_acc: 0.9080\n",
            "Epoch 19/100\n",
            "60000/60000 [==============================] - 1s 19us/step - loss: 0.3576 - acc: 0.9015 - val_loss: 0.3396 - val_acc: 0.9080\n",
            "Epoch 20/100\n",
            "60000/60000 [==============================] - 1s 18us/step - loss: 0.3544 - acc: 0.9020 - val_loss: 0.3366 - val_acc: 0.9086\n",
            "Epoch 21/100\n",
            "60000/60000 [==============================] - 1s 19us/step - loss: 0.3514 - acc: 0.9027 - val_loss: 0.3339 - val_acc: 0.9094\n",
            "Epoch 22/100\n",
            "60000/60000 [==============================] - 1s 18us/step - loss: 0.3487 - acc: 0.9037 - val_loss: 0.3318 - val_acc: 0.9099\n",
            "Epoch 23/100\n",
            "60000/60000 [==============================] - 1s 19us/step - loss: 0.3462 - acc: 0.9044 - val_loss: 0.3295 - val_acc: 0.9099\n",
            "Epoch 24/100\n",
            "60000/60000 [==============================] - 1s 18us/step - loss: 0.3438 - acc: 0.9049 - val_loss: 0.3276 - val_acc: 0.9110\n",
            "Epoch 25/100\n",
            "60000/60000 [==============================] - 1s 18us/step - loss: 0.3415 - acc: 0.9053 - val_loss: 0.3257 - val_acc: 0.9109\n",
            "Epoch 26/100\n",
            "60000/60000 [==============================] - 1s 18us/step - loss: 0.3394 - acc: 0.9061 - val_loss: 0.3236 - val_acc: 0.9117\n",
            "Epoch 27/100\n",
            "60000/60000 [==============================] - 1s 18us/step - loss: 0.3375 - acc: 0.9064 - val_loss: 0.3219 - val_acc: 0.9124\n",
            "Epoch 28/100\n",
            "60000/60000 [==============================] - 1s 19us/step - loss: 0.3356 - acc: 0.9069 - val_loss: 0.3204 - val_acc: 0.9133\n",
            "Epoch 29/100\n",
            "60000/60000 [==============================] - 1s 18us/step - loss: 0.3338 - acc: 0.9076 - val_loss: 0.3190 - val_acc: 0.9137\n",
            "Epoch 30/100\n",
            "60000/60000 [==============================] - 1s 19us/step - loss: 0.3320 - acc: 0.9077 - val_loss: 0.3174 - val_acc: 0.9145\n",
            "Epoch 31/100\n",
            "60000/60000 [==============================] - 1s 18us/step - loss: 0.3305 - acc: 0.9083 - val_loss: 0.3162 - val_acc: 0.9144\n",
            "Epoch 32/100\n",
            "60000/60000 [==============================] - 1s 19us/step - loss: 0.3290 - acc: 0.9087 - val_loss: 0.3147 - val_acc: 0.9147\n",
            "Epoch 33/100\n",
            "60000/60000 [==============================] - 1s 18us/step - loss: 0.3275 - acc: 0.9091 - val_loss: 0.3137 - val_acc: 0.9149\n",
            "Epoch 34/100\n",
            "60000/60000 [==============================] - 1s 18us/step - loss: 0.3261 - acc: 0.9094 - val_loss: 0.3125 - val_acc: 0.9153\n",
            "Epoch 35/100\n",
            "60000/60000 [==============================] - 1s 18us/step - loss: 0.3248 - acc: 0.9097 - val_loss: 0.3113 - val_acc: 0.9153\n",
            "Epoch 36/100\n",
            "60000/60000 [==============================] - 1s 19us/step - loss: 0.3235 - acc: 0.9101 - val_loss: 0.3105 - val_acc: 0.9153\n",
            "Epoch 37/100\n",
            "60000/60000 [==============================] - 1s 18us/step - loss: 0.3222 - acc: 0.9107 - val_loss: 0.3099 - val_acc: 0.9154\n",
            "Epoch 38/100\n",
            "60000/60000 [==============================] - 1s 18us/step - loss: 0.3211 - acc: 0.9112 - val_loss: 0.3085 - val_acc: 0.9153\n",
            "Epoch 39/100\n",
            "60000/60000 [==============================] - 1s 18us/step - loss: 0.3200 - acc: 0.9111 - val_loss: 0.3075 - val_acc: 0.9159\n",
            "Epoch 40/100\n",
            "60000/60000 [==============================] - 1s 19us/step - loss: 0.3188 - acc: 0.9113 - val_loss: 0.3067 - val_acc: 0.9162\n",
            "Epoch 41/100\n",
            "60000/60000 [==============================] - 1s 19us/step - loss: 0.3178 - acc: 0.9118 - val_loss: 0.3059 - val_acc: 0.9159\n",
            "Epoch 42/100\n",
            "60000/60000 [==============================] - 1s 19us/step - loss: 0.3168 - acc: 0.9121 - val_loss: 0.3047 - val_acc: 0.9161\n",
            "Epoch 43/100\n",
            "60000/60000 [==============================] - 1s 19us/step - loss: 0.3158 - acc: 0.9124 - val_loss: 0.3042 - val_acc: 0.9166\n",
            "Epoch 44/100\n",
            "60000/60000 [==============================] - 1s 19us/step - loss: 0.3149 - acc: 0.9127 - val_loss: 0.3034 - val_acc: 0.9172\n",
            "Epoch 45/100\n",
            "60000/60000 [==============================] - 1s 18us/step - loss: 0.3140 - acc: 0.9130 - val_loss: 0.3027 - val_acc: 0.9168\n",
            "Epoch 46/100\n",
            "60000/60000 [==============================] - 1s 18us/step - loss: 0.3131 - acc: 0.9133 - val_loss: 0.3018 - val_acc: 0.9173\n",
            "Epoch 47/100\n",
            "60000/60000 [==============================] - 1s 19us/step - loss: 0.3122 - acc: 0.9135 - val_loss: 0.3011 - val_acc: 0.9173\n",
            "Epoch 48/100\n",
            "60000/60000 [==============================] - 1s 18us/step - loss: 0.3114 - acc: 0.9136 - val_loss: 0.3005 - val_acc: 0.9175\n",
            "Epoch 49/100\n",
            "60000/60000 [==============================] - 1s 18us/step - loss: 0.3106 - acc: 0.9140 - val_loss: 0.2998 - val_acc: 0.9174\n",
            "Epoch 50/100\n",
            "60000/60000 [==============================] - 1s 18us/step - loss: 0.3098 - acc: 0.9143 - val_loss: 0.2991 - val_acc: 0.9180\n",
            "Epoch 51/100\n",
            "60000/60000 [==============================] - 1s 18us/step - loss: 0.3090 - acc: 0.9144 - val_loss: 0.2987 - val_acc: 0.9180\n",
            "Epoch 52/100\n",
            "60000/60000 [==============================] - 1s 18us/step - loss: 0.3083 - acc: 0.9148 - val_loss: 0.2982 - val_acc: 0.9181\n",
            "Epoch 53/100\n",
            "60000/60000 [==============================] - 1s 18us/step - loss: 0.3076 - acc: 0.9147 - val_loss: 0.2976 - val_acc: 0.9191\n",
            "Epoch 54/100\n",
            "60000/60000 [==============================] - 1s 19us/step - loss: 0.3069 - acc: 0.9151 - val_loss: 0.2969 - val_acc: 0.9184\n",
            "Epoch 55/100\n",
            "60000/60000 [==============================] - 1s 19us/step - loss: 0.3062 - acc: 0.9152 - val_loss: 0.2966 - val_acc: 0.9184\n",
            "Epoch 56/100\n",
            "60000/60000 [==============================] - 1s 18us/step - loss: 0.3055 - acc: 0.9155 - val_loss: 0.2959 - val_acc: 0.9183\n",
            "Epoch 57/100\n",
            "60000/60000 [==============================] - 1s 18us/step - loss: 0.3049 - acc: 0.9156 - val_loss: 0.2958 - val_acc: 0.9180\n",
            "Epoch 58/100\n",
            "60000/60000 [==============================] - 1s 19us/step - loss: 0.3043 - acc: 0.9161 - val_loss: 0.2951 - val_acc: 0.9188\n",
            "Epoch 59/100\n",
            "60000/60000 [==============================] - 1s 19us/step - loss: 0.3037 - acc: 0.9160 - val_loss: 0.2948 - val_acc: 0.9191\n",
            "Epoch 60/100\n",
            "60000/60000 [==============================] - 1s 18us/step - loss: 0.3031 - acc: 0.9160 - val_loss: 0.2942 - val_acc: 0.9184\n",
            "Epoch 61/100\n",
            "60000/60000 [==============================] - 1s 18us/step - loss: 0.3025 - acc: 0.9164 - val_loss: 0.2937 - val_acc: 0.9188\n",
            "Epoch 62/100\n",
            "60000/60000 [==============================] - 1s 18us/step - loss: 0.3019 - acc: 0.9167 - val_loss: 0.2933 - val_acc: 0.9185\n",
            "Epoch 63/100\n",
            "60000/60000 [==============================] - 1s 19us/step - loss: 0.3014 - acc: 0.9166 - val_loss: 0.2930 - val_acc: 0.9188\n",
            "Epoch 64/100\n",
            "60000/60000 [==============================] - 1s 18us/step - loss: 0.3008 - acc: 0.9168 - val_loss: 0.2924 - val_acc: 0.9195\n",
            "Epoch 65/100\n",
            "60000/60000 [==============================] - 1s 18us/step - loss: 0.3003 - acc: 0.9170 - val_loss: 0.2920 - val_acc: 0.9192\n",
            "Epoch 66/100\n",
            "60000/60000 [==============================] - 1s 18us/step - loss: 0.2998 - acc: 0.9171 - val_loss: 0.2918 - val_acc: 0.9193\n",
            "Epoch 67/100\n",
            "60000/60000 [==============================] - 1s 19us/step - loss: 0.2993 - acc: 0.9173 - val_loss: 0.2912 - val_acc: 0.9198\n",
            "Epoch 68/100\n",
            "60000/60000 [==============================] - 1s 18us/step - loss: 0.2988 - acc: 0.9174 - val_loss: 0.2909 - val_acc: 0.9200\n",
            "Epoch 69/100\n",
            "60000/60000 [==============================] - 1s 19us/step - loss: 0.2983 - acc: 0.9172 - val_loss: 0.2905 - val_acc: 0.9201\n",
            "Epoch 70/100\n",
            "60000/60000 [==============================] - 1s 18us/step - loss: 0.2978 - acc: 0.9177 - val_loss: 0.2901 - val_acc: 0.9198\n",
            "Epoch 71/100\n",
            "60000/60000 [==============================] - 1s 20us/step - loss: 0.2973 - acc: 0.9177 - val_loss: 0.2900 - val_acc: 0.9199\n",
            "Epoch 72/100\n",
            "60000/60000 [==============================] - 1s 22us/step - loss: 0.2969 - acc: 0.9177 - val_loss: 0.2896 - val_acc: 0.9203\n",
            "Epoch 73/100\n",
            "60000/60000 [==============================] - 1s 21us/step - loss: 0.2964 - acc: 0.9183 - val_loss: 0.2894 - val_acc: 0.9203\n",
            "Epoch 74/100\n",
            "60000/60000 [==============================] - 1s 21us/step - loss: 0.2960 - acc: 0.9182 - val_loss: 0.2887 - val_acc: 0.9203\n",
            "Epoch 75/100\n",
            "60000/60000 [==============================] - 1s 20us/step - loss: 0.2955 - acc: 0.9183 - val_loss: 0.2886 - val_acc: 0.9203\n",
            "Epoch 76/100\n",
            "60000/60000 [==============================] - 1s 18us/step - loss: 0.2951 - acc: 0.9183 - val_loss: 0.2882 - val_acc: 0.9209\n",
            "Epoch 77/100\n",
            "60000/60000 [==============================] - 1s 18us/step - loss: 0.2948 - acc: 0.9186 - val_loss: 0.2881 - val_acc: 0.9201\n",
            "Epoch 78/100\n",
            "60000/60000 [==============================] - 1s 18us/step - loss: 0.2943 - acc: 0.9187 - val_loss: 0.2878 - val_acc: 0.9203\n",
            "Epoch 79/100\n",
            "60000/60000 [==============================] - 1s 18us/step - loss: 0.2939 - acc: 0.9187 - val_loss: 0.2874 - val_acc: 0.9207\n",
            "Epoch 80/100\n",
            "60000/60000 [==============================] - 1s 18us/step - loss: 0.2935 - acc: 0.9187 - val_loss: 0.2872 - val_acc: 0.9206\n",
            "Epoch 81/100\n",
            "60000/60000 [==============================] - 1s 19us/step - loss: 0.2931 - acc: 0.9188 - val_loss: 0.2870 - val_acc: 0.9209\n",
            "Epoch 82/100\n",
            "60000/60000 [==============================] - 1s 18us/step - loss: 0.2928 - acc: 0.9191 - val_loss: 0.2867 - val_acc: 0.9207\n",
            "Epoch 83/100\n",
            "60000/60000 [==============================] - 1s 18us/step - loss: 0.2924 - acc: 0.9193 - val_loss: 0.2865 - val_acc: 0.9205\n",
            "Epoch 84/100\n",
            "60000/60000 [==============================] - 1s 18us/step - loss: 0.2920 - acc: 0.9192 - val_loss: 0.2860 - val_acc: 0.9209\n",
            "Epoch 85/100\n",
            "60000/60000 [==============================] - 1s 19us/step - loss: 0.2917 - acc: 0.9194 - val_loss: 0.2858 - val_acc: 0.9210\n",
            "Epoch 86/100\n",
            "60000/60000 [==============================] - 1s 18us/step - loss: 0.2913 - acc: 0.9193 - val_loss: 0.2855 - val_acc: 0.9204\n",
            "Epoch 87/100\n",
            "60000/60000 [==============================] - 1s 18us/step - loss: 0.2910 - acc: 0.9195 - val_loss: 0.2855 - val_acc: 0.9210\n",
            "Epoch 88/100\n",
            "60000/60000 [==============================] - 1s 18us/step - loss: 0.2906 - acc: 0.9197 - val_loss: 0.2850 - val_acc: 0.9211\n",
            "Epoch 89/100\n",
            "60000/60000 [==============================] - 1s 18us/step - loss: 0.2903 - acc: 0.9197 - val_loss: 0.2849 - val_acc: 0.9207\n",
            "Epoch 90/100\n",
            "60000/60000 [==============================] - 1s 18us/step - loss: 0.2900 - acc: 0.9198 - val_loss: 0.2848 - val_acc: 0.9203\n",
            "Epoch 91/100\n",
            "60000/60000 [==============================] - 1s 19us/step - loss: 0.2896 - acc: 0.9199 - val_loss: 0.2844 - val_acc: 0.9206\n",
            "Epoch 92/100\n",
            "60000/60000 [==============================] - 1s 18us/step - loss: 0.2893 - acc: 0.9199 - val_loss: 0.2840 - val_acc: 0.9215\n",
            "Epoch 93/100\n",
            "60000/60000 [==============================] - 1s 18us/step - loss: 0.2890 - acc: 0.9199 - val_loss: 0.2839 - val_acc: 0.9214\n",
            "Epoch 94/100\n",
            "60000/60000 [==============================] - 1s 18us/step - loss: 0.2887 - acc: 0.9202 - val_loss: 0.2840 - val_acc: 0.9211\n",
            "Epoch 95/100\n",
            "60000/60000 [==============================] - 1s 18us/step - loss: 0.2884 - acc: 0.9201 - val_loss: 0.2837 - val_acc: 0.9217\n",
            "Epoch 96/100\n",
            "60000/60000 [==============================] - 1s 18us/step - loss: 0.2881 - acc: 0.9203 - val_loss: 0.2834 - val_acc: 0.9211\n",
            "Epoch 97/100\n",
            "60000/60000 [==============================] - 1s 18us/step - loss: 0.2878 - acc: 0.9203 - val_loss: 0.2831 - val_acc: 0.9215\n",
            "Epoch 98/100\n",
            "60000/60000 [==============================] - 1s 18us/step - loss: 0.2875 - acc: 0.9203 - val_loss: 0.2830 - val_acc: 0.9221\n",
            "Epoch 99/100\n",
            "60000/60000 [==============================] - 1s 18us/step - loss: 0.2872 - acc: 0.9203 - val_loss: 0.2829 - val_acc: 0.9219\n",
            "Epoch 100/100\n",
            "60000/60000 [==============================] - 1s 18us/step - loss: 0.2869 - acc: 0.9205 - val_loss: 0.2826 - val_acc: 0.9218\n",
            "Test score: 0.2826428488910198\n",
            "Test accuracy: 0.9218\n"
          ],
          "name": "stdout"
        }
      ]
    },
    {
      "metadata": {
        "id": "buGLi3FRmiQi",
        "colab_type": "code",
        "colab": {}
      },
      "cell_type": "code",
      "source": [
        "# json_string = model.to_json() # as json open('mnist_Logistic_model.json', 'w').write(json_string) yaml_string = model.to_yaml() #as yaml open('mnist_Logistic_model.yaml', 'w').write(yaml_string) \n",
        "\n",
        "# save the weights in h5 format model.save_weights('mnist_Logistic_wts.h5') \n",
        "\n",
        "# uncomment the code below (and modify accordingly) to read a saved model and weights \n",
        "# model = model_from_json(open('my_model_architecture.json').read())# if json \n",
        "# model = model_from_yaml(open('my_model_architecture.yaml').read())# if yaml \n",
        "# model.load_weights('my_model_weights.h5')"
      ],
      "execution_count": 0,
      "outputs": []
    }
  ]
}